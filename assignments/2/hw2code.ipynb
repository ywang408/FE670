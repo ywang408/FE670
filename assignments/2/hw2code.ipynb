{
 "cells": [
  {
   "cell_type": "code",
   "execution_count": 100,
   "metadata": {},
   "outputs": [],
   "source": [
    "import numpy as np\n",
    "import pandas as pd\n",
    "from cvxopt import matrix\n",
    "from cvxopt.solvers import qp\n",
    "import matplotlib.pyplot as plt"
   ]
  },
  {
   "cell_type": "markdown",
   "metadata": {},
   "source": [
    "# Problem 1"
   ]
  },
  {
   "cell_type": "markdown",
   "metadata": {},
   "source": [
    "$$\n",
    "\\begin{array}{r}\n",
    "\\min _{w} \\frac{1}{2} \\mathbf{w}^{\\prime} \\boldsymbol{\\Sigma} \\mathbf{w} \\\\\n",
    "\\text { s. t. } \\\\\n",
    "\\mu_{0}=\\mathbf{w}^{\\prime} \\boldsymbol{\\mu}, \\mathbf{w}^{\\prime} \\mathbf{l}^{\\prime}=1, \\mathbf{l}^{\\prime}=[1,1, \\ldots, 1]\n",
    "\\end{array}\n",
    "$$"
   ]
  },
  {
   "cell_type": "code",
   "execution_count": 101,
   "metadata": {
    "pycharm": {
     "name": "#%%\n"
    }
   },
   "outputs": [
    {
     "data": {
      "text/plain": [
       "array([0.03, 0.08])"
      ]
     },
     "execution_count": 101,
     "metadata": {},
     "output_type": "execute_result"
    }
   ],
   "source": [
    "# problem 1 settings\n",
    "n = 2\n",
    "mu = np.array([0.05, 0.10])\n",
    "sig = np.matrix([[0.01, -0.01], [-0.01, 0.04]])\n",
    "mu - 0.02"
   ]
  },
  {
   "cell_type": "code",
   "execution_count": 102,
   "metadata": {
    "pycharm": {
     "name": "#%%\n"
    }
   },
   "outputs": [],
   "source": [
    "def mkt_port(n, mu, sigma, mu_0=0, rf=0):\n",
    "    \"\"\"\n",
    "    solve market portfolio with basic constraints\n",
    "    :param n: number of stocks\n",
    "    :param mu: vector of stock returns\n",
    "    :param sigma: covariance matrix of stock returns\n",
    "    :param mu_0: target return of market portfolio \\\n",
    "        0 means to solve global min var portfolio\n",
    "    :param rf: risk free rate\n",
    "    :return: vector of weights\n",
    "    \"\"\"\n",
    "    if rf == 0:\n",
    "        if mu_0 != 0:\n",
    "            e = np.ones(n)\n",
    "            A = matrix(np.matrix([e, mu]))\n",
    "            b = matrix([1.0, mu_0])\n",
    "        else:\n",
    "            A = matrix(1.0, (1,n))\n",
    "            b = matrix(1.0)\n",
    "    else:\n",
    "        A = matrix(np.matrix(mu-rf))\n",
    "        b = matrix(mu_0 - rf)\n",
    "    q = matrix(0.0, (n, 1))\n",
    "    Sig = matrix(sigma)\n",
    "    port = qp(Sig, q, A=A, b=b)['x']\n",
    "    return np.matrix(port)"
   ]
  },
  {
   "cell_type": "code",
   "execution_count": 103,
   "metadata": {
    "pycharm": {
     "name": "#%%\n"
    }
   },
   "outputs": [
    {
     "name": "stdout",
     "output_type": "stream",
     "text": [
      "Portfolio with 0.1 target return: [[5.689893e-15]\n",
      " [1.000000e+00]]\n",
      "Portfolio with 0.2 target return: [[-2.]\n",
      " [ 3.]]\n"
     ]
    }
   ],
   "source": [
    "p1 = mkt_port(n, mu, sig, 0.1)\n",
    "p2 = mkt_port(n, mu, sig, 0.2)\n",
    "riskp1 = np.array(p1)\n",
    "riskp1 =np.dot(np.dot(riskp1.T,sig),riskp1)[0,0]\n",
    "riskp1 = np.sqrt(riskp1)\n",
    "riskp2 = np.array(p2)\n",
    "riskp2 =np.dot(np.dot(riskp2.T,sig),riskp2)[0,0]\n",
    "riskp2 = np.sqrt(riskp2)\n",
    "print(\"Portfolio with 0.1 target return: {0}\".format(p1))\n",
    "print(\"Portfolio with 0.2 target return: {0}\".format(p2))"
   ]
  },
  {
   "cell_type": "code",
   "execution_count": 104,
   "metadata": {
    "pycharm": {
     "name": "#%%\n"
    }
   },
   "outputs": [
    {
     "name": "stdout",
     "output_type": "stream",
     "text": [
      "Portfolio with 0.1 target return: [[5.689893e-15]\n",
      " [1.000000e+00]]\n",
      "Portfolio with 0.2 target return: [[-2.]\n",
      " [ 3.]]\n"
     ]
    }
   ],
   "source": [
    "p3 = mkt_port(n, mu, sig, 0.1, 0.02)\n",
    "p4 = mkt_port(n, mu, sig, 0.2, 0.02)\n",
    "riskp3 = np.array(p3)\n",
    "riskp3 =np.dot(np.dot(riskp3.T,sig),riskp3)[0,0]\n",
    "riskp3 = np.sqrt(riskp3)\n",
    "riskp4 = np.array(p4)\n",
    "riskp4 =np.dot(np.dot(riskp4.T,sig),riskp4)[0,0]\n",
    "riskp4 = np.sqrt(riskp4)\n",
    "print(\"Portfolio with 0.1 target return: {0}\".format(p1))\n",
    "print(\"Portfolio with 0.2 target return: {0}\".format(p2))"
   ]
  },
  {
   "cell_type": "code",
   "execution_count": 105,
   "metadata": {},
   "outputs": [
    {
     "data": {
      "image/png": "[encoded data removed]",
      "text/plain": [
       "<Figure size 720x432 with 1 Axes>"
      ]
     },
     "metadata": {
      "needs_background": "light"
     },
     "output_type": "display_data"
    }
   ],
   "source": [
    "fig, ax = plt.subplots(figsize=(10, 6))\n",
    "\n",
    "# efficient frontier without risk-free asset\n",
    "rets1 = np.arange(-0.1, 0.3, 0.001)\n",
    "risk1 = np.zeros(len(rets1))\n",
    "\n",
    "for i,j in enumerate(rets1):\n",
    "    port = mkt_port(n, mu, sig, mu_0=j)\n",
    "    var = np.dot(np.dot(port.T, sig),port)\n",
    "    risk1[i] = np.sqrt(var)\n",
    "    \n",
    "ax.plot(risk1, rets1, label='efficient frontier without risk-free asset')\n",
    "ax.plot(riskp1, 0.1, 'ro',label='portfolio with target return 0.1')\n",
    "ax.plot(riskp2, 0.2, 'ro', color='green',label = 'portfolio with target return 0.2')\n",
    "plt.xlabel('risk')\n",
    "plt.ylabel('return')\n",
    "plt.legend()\n",
    "plt.savefig(\"p1_result\")\n",
    "plt.show()"
   ]
  },
  {
   "cell_type": "code",
   "execution_count": 106,
   "metadata": {
    "pycharm": {
     "name": "#%%\n"
    }
   },
   "outputs": [
    {
     "data": {
      "image/png": "[encoded data removed]",
      "text/plain": [
       "<Figure size 720x432 with 1 Axes>"
      ]
     },
     "metadata": {
      "needs_background": "light"
     },
     "output_type": "display_data"
    }
   ],
   "source": [
    "fig, ax = plt.subplots(figsize=(10, 6))\n",
    "\n",
    "# efficient frontier without risk-free asset\n",
    "rets1 = np.arange(-0.1, 0.3, 0.001)\n",
    "risk1 = np.zeros(len(rets1))\n",
    "\n",
    "for i,j in enumerate(rets1):\n",
    "    port = mkt_port(n, mu, sig, j)\n",
    "    var = np.dot(np.dot(port.T, sig),port)\n",
    "    risk1[i] = np.sqrt(var)\n",
    "ax.plot(risk1, rets1, label='efficient frontier without risk-free asset')\n",
    "\n",
    "# new frontier\n",
    "rets2 = np.arange(0.02, 0.3, 0.001)\n",
    "risk2 = np.zeros(len(rets2))\n",
    "\n",
    "for i,j in enumerate(rets2):\n",
    "    port = mkt_port(n, mu, sig, j, 0.02)\n",
    "    var = np.dot(np.dot(port.T, sig),port)\n",
    "    risk2[i] = np.sqrt(var)\n",
    "\n",
    "ax.plot(risk2, rets2, label='CML')\n",
    "ax.plot(riskp1, 0.1, 'ro',label='portfolio withreturn 0.1, no risk-free asset')\n",
    "ax.plot(riskp2, 0.2, 'ro', color='green',label = 'portfolio withreturn 0.2, no risk-free asset')\n",
    "ax.plot(riskp3, 0.1, 'ro',color='purple',label='portfolio withreturn 0.1, with risk-free asset')\n",
    "ax.plot(riskp4, 0.2, 'ro', color='brown',label = 'portfolio withreturn 0.2, with risk-free asset')\n",
    "plt.ylim([-0.1, 0.25])\n",
    "plt.xlim([0,0.85])\n",
    "plt.xlabel('risk')\n",
    "plt.ylabel('return')\n",
    "plt.legend()\n",
    "plt.savefig(\"p2_result\")\n",
    "plt.show()"
   ]
  },
  {
   "cell_type": "markdown",
   "metadata": {},
   "source": [
    "# Problem 2"
   ]
  },
  {
   "cell_type": "code",
   "execution_count": 107,
   "metadata": {
    "pycharm": {
     "name": "#%%\n"
    }
   },
   "outputs": [
    {
     "data": {
      "text/html": [
       "<div>\n",
       "<style scoped>\n",
       "    .dataframe tbody tr th:only-of-type {\n",
       "        vertical-align: middle;\n",
       "    }\n",
       "\n",
       "    .dataframe tbody tr th {\n",
       "        vertical-align: top;\n",
       "    }\n",
       "\n",
       "    .dataframe thead th {\n",
       "        text-align: right;\n",
       "    }\n",
       "</style>\n",
       "<table border=\"1\" class=\"dataframe\">\n",
       "  <thead>\n",
       "    <tr style=\"text-align: right;\">\n",
       "      <th></th>\n",
       "      <th>date</th>\n",
       "      <th>open</th>\n",
       "      <th>high</th>\n",
       "      <th>low</th>\n",
       "      <th>close</th>\n",
       "      <th>volume</th>\n",
       "      <th>Name</th>\n",
       "    </tr>\n",
       "  </thead>\n",
       "  <tbody>\n",
       "    <tr>\n",
       "      <th>0</th>\n",
       "      <td>2013-02-08</td>\n",
       "      <td>15.07</td>\n",
       "      <td>15.12</td>\n",
       "      <td>14.63</td>\n",
       "      <td>14.75</td>\n",
       "      <td>8407500</td>\n",
       "      <td>AAL</td>\n",
       "    </tr>\n",
       "    <tr>\n",
       "      <th>1</th>\n",
       "      <td>2013-02-11</td>\n",
       "      <td>14.89</td>\n",
       "      <td>15.01</td>\n",
       "      <td>14.26</td>\n",
       "      <td>14.46</td>\n",
       "      <td>8882000</td>\n",
       "      <td>AAL</td>\n",
       "    </tr>\n",
       "    <tr>\n",
       "      <th>2</th>\n",
       "      <td>2013-02-12</td>\n",
       "      <td>14.45</td>\n",
       "      <td>14.51</td>\n",
       "      <td>14.10</td>\n",
       "      <td>14.27</td>\n",
       "      <td>8126000</td>\n",
       "      <td>AAL</td>\n",
       "    </tr>\n",
       "    <tr>\n",
       "      <th>3</th>\n",
       "      <td>2013-02-13</td>\n",
       "      <td>14.30</td>\n",
       "      <td>14.94</td>\n",
       "      <td>14.25</td>\n",
       "      <td>14.66</td>\n",
       "      <td>10259500</td>\n",
       "      <td>AAL</td>\n",
       "    </tr>\n",
       "    <tr>\n",
       "      <th>4</th>\n",
       "      <td>2013-02-14</td>\n",
       "      <td>14.94</td>\n",
       "      <td>14.96</td>\n",
       "      <td>13.16</td>\n",
       "      <td>13.99</td>\n",
       "      <td>31879900</td>\n",
       "      <td>AAL</td>\n",
       "    </tr>\n",
       "  </tbody>\n",
       "</table>\n",
       "</div>"
      ],
      "text/plain": [
       "        date   open   high    low  close    volume Name\n",
       "0 2013-02-08  15.07  15.12  14.63  14.75   8407500  AAL\n",
       "1 2013-02-11  14.89  15.01  14.26  14.46   8882000  AAL\n",
       "2 2013-02-12  14.45  14.51  14.10  14.27   8126000  AAL\n",
       "3 2013-02-13  14.30  14.94  14.25  14.66  10259500  AAL\n",
       "4 2013-02-14  14.94  14.96  13.16  13.99  31879900  AAL"
      ]
     },
     "execution_count": 107,
     "metadata": {},
     "output_type": "execute_result"
    }
   ],
   "source": [
    "raw = pd.read_csv(\"./all_stocks_5yr.csv\")\n",
    "raw['date'] = pd.to_datetime(raw['date'])\n",
    "raw.head()"
   ]
  },
  {
   "cell_type": "code",
   "execution_count": 108,
   "metadata": {
    "pycharm": {
     "name": "#%%\n"
    }
   },
   "outputs": [],
   "source": [
    "stocks = set(raw['Name'])"
   ]
  },
  {
   "cell_type": "code",
   "execution_count": 109,
   "metadata": {
    "pycharm": {
     "name": "#%%\n"
    }
   },
   "outputs": [
    {
     "data": {
      "text/html": [
       "<div>\n",
       "<style scoped>\n",
       "    .dataframe tbody tr th:only-of-type {\n",
       "        vertical-align: middle;\n",
       "    }\n",
       "\n",
       "    .dataframe tbody tr th {\n",
       "        vertical-align: top;\n",
       "    }\n",
       "\n",
       "    .dataframe thead th {\n",
       "        text-align: right;\n",
       "    }\n",
       "</style>\n",
       "<table border=\"1\" class=\"dataframe\">\n",
       "  <thead>\n",
       "    <tr style=\"text-align: right;\">\n",
       "      <th></th>\n",
       "      <th>AAPL</th>\n",
       "      <th>MOS</th>\n",
       "      <th>SPG</th>\n",
       "      <th>CMCSA</th>\n",
       "      <th>AZO</th>\n",
       "      <th>AAL</th>\n",
       "      <th>UHS</th>\n",
       "      <th>PHM</th>\n",
       "      <th>SJM</th>\n",
       "      <th>INFO</th>\n",
       "      <th>...</th>\n",
       "      <th>UDR</th>\n",
       "      <th>PDCO</th>\n",
       "      <th>PCAR</th>\n",
       "      <th>FCX</th>\n",
       "      <th>TJX</th>\n",
       "      <th>ITW</th>\n",
       "      <th>O</th>\n",
       "      <th>WYNN</th>\n",
       "      <th>ALLE</th>\n",
       "      <th>HES</th>\n",
       "    </tr>\n",
       "    <tr>\n",
       "      <th>date</th>\n",
       "      <th></th>\n",
       "      <th></th>\n",
       "      <th></th>\n",
       "      <th></th>\n",
       "      <th></th>\n",
       "      <th></th>\n",
       "      <th></th>\n",
       "      <th></th>\n",
       "      <th></th>\n",
       "      <th></th>\n",
       "      <th></th>\n",
       "      <th></th>\n",
       "      <th></th>\n",
       "      <th></th>\n",
       "      <th></th>\n",
       "      <th></th>\n",
       "      <th></th>\n",
       "      <th></th>\n",
       "      <th></th>\n",
       "      <th></th>\n",
       "      <th></th>\n",
       "    </tr>\n",
       "  </thead>\n",
       "  <tbody>\n",
       "    <tr>\n",
       "      <th>2013-02-08</th>\n",
       "      <td>67.8542</td>\n",
       "      <td>61.40</td>\n",
       "      <td>162.76</td>\n",
       "      <td>19.375</td>\n",
       "      <td>385.89</td>\n",
       "      <td>14.75</td>\n",
       "      <td>58.11</td>\n",
       "      <td>19.47</td>\n",
       "      <td>89.16</td>\n",
       "      <td>NaN</td>\n",
       "      <td>...</td>\n",
       "      <td>23.60</td>\n",
       "      <td>37.31</td>\n",
       "      <td>47.50</td>\n",
       "      <td>35.64</td>\n",
       "      <td>45.68</td>\n",
       "      <td>62.72</td>\n",
       "      <td>43.20</td>\n",
       "      <td>126.52</td>\n",
       "      <td>NaN</td>\n",
       "      <td>67.37</td>\n",
       "    </tr>\n",
       "    <tr>\n",
       "      <th>2013-02-11</th>\n",
       "      <td>68.5614</td>\n",
       "      <td>61.14</td>\n",
       "      <td>163.50</td>\n",
       "      <td>19.320</td>\n",
       "      <td>385.23</td>\n",
       "      <td>14.46</td>\n",
       "      <td>57.38</td>\n",
       "      <td>19.30</td>\n",
       "      <td>88.75</td>\n",
       "      <td>NaN</td>\n",
       "      <td>...</td>\n",
       "      <td>23.81</td>\n",
       "      <td>37.07</td>\n",
       "      <td>47.79</td>\n",
       "      <td>35.33</td>\n",
       "      <td>45.40</td>\n",
       "      <td>62.80</td>\n",
       "      <td>43.63</td>\n",
       "      <td>124.10</td>\n",
       "      <td>NaN</td>\n",
       "      <td>66.74</td>\n",
       "    </tr>\n",
       "    <tr>\n",
       "      <th>2013-02-12</th>\n",
       "      <td>66.8428</td>\n",
       "      <td>61.49</td>\n",
       "      <td>162.97</td>\n",
       "      <td>19.485</td>\n",
       "      <td>382.09</td>\n",
       "      <td>14.27</td>\n",
       "      <td>56.30</td>\n",
       "      <td>20.32</td>\n",
       "      <td>90.92</td>\n",
       "      <td>NaN</td>\n",
       "      <td>...</td>\n",
       "      <td>24.17</td>\n",
       "      <td>37.34</td>\n",
       "      <td>47.93</td>\n",
       "      <td>35.67</td>\n",
       "      <td>45.20</td>\n",
       "      <td>63.02</td>\n",
       "      <td>44.50</td>\n",
       "      <td>122.67</td>\n",
       "      <td>NaN</td>\n",
       "      <td>66.98</td>\n",
       "    </tr>\n",
       "    <tr>\n",
       "      <th>2013-02-13</th>\n",
       "      <td>66.7156</td>\n",
       "      <td>62.20</td>\n",
       "      <td>162.05</td>\n",
       "      <td>20.065</td>\n",
       "      <td>379.73</td>\n",
       "      <td>14.66</td>\n",
       "      <td>57.28</td>\n",
       "      <td>20.23</td>\n",
       "      <td>90.33</td>\n",
       "      <td>NaN</td>\n",
       "      <td>...</td>\n",
       "      <td>24.30</td>\n",
       "      <td>37.15</td>\n",
       "      <td>48.04</td>\n",
       "      <td>35.64</td>\n",
       "      <td>45.01</td>\n",
       "      <td>63.55</td>\n",
       "      <td>44.55</td>\n",
       "      <td>122.40</td>\n",
       "      <td>NaN</td>\n",
       "      <td>67.96</td>\n",
       "    </tr>\n",
       "    <tr>\n",
       "      <th>2013-02-14</th>\n",
       "      <td>66.6556</td>\n",
       "      <td>61.98</td>\n",
       "      <td>160.57</td>\n",
       "      <td>20.170</td>\n",
       "      <td>373.61</td>\n",
       "      <td>13.99</td>\n",
       "      <td>57.91</td>\n",
       "      <td>20.27</td>\n",
       "      <td>92.16</td>\n",
       "      <td>NaN</td>\n",
       "      <td>...</td>\n",
       "      <td>24.32</td>\n",
       "      <td>37.08</td>\n",
       "      <td>48.17</td>\n",
       "      <td>35.53</td>\n",
       "      <td>45.21</td>\n",
       "      <td>63.70</td>\n",
       "      <td>44.29</td>\n",
       "      <td>123.20</td>\n",
       "      <td>NaN</td>\n",
       "      <td>68.35</td>\n",
       "    </tr>\n",
       "  </tbody>\n",
       "</table>\n",
       "<p>5 rows × 506 columns</p>\n",
       "</div>"
      ],
      "text/plain": [
       "               AAPL    MOS     SPG   CMCSA     AZO    AAL    UHS    PHM  \\\n",
       "date                                                                      \n",
       "2013-02-08  67.8542  61.40  162.76  19.375  385.89  14.75  58.11  19.47   \n",
       "2013-02-11  68.5614  61.14  163.50  19.320  385.23  14.46  57.38  19.30   \n",
       "2013-02-12  66.8428  61.49  162.97  19.485  382.09  14.27  56.30  20.32   \n",
       "2013-02-13  66.7156  62.20  162.05  20.065  379.73  14.66  57.28  20.23   \n",
       "2013-02-14  66.6556  61.98  160.57  20.170  373.61  13.99  57.91  20.27   \n",
       "\n",
       "              SJM  INFO  ...    UDR   PDCO   PCAR    FCX    TJX    ITW      O  \\\n",
       "date                     ...                                                    \n",
       "2013-02-08  89.16   NaN  ...  23.60  37.31  47.50  35.64  45.68  62.72  43.20   \n",
       "2013-02-11  88.75   NaN  ...  23.81  37.07  47.79  35.33  45.40  62.80  43.63   \n",
       "2013-02-12  90.92   NaN  ...  24.17  37.34  47.93  35.67  45.20  63.02  44.50   \n",
       "2013-02-13  90.33   NaN  ...  24.30  37.15  48.04  35.64  45.01  63.55  44.55   \n",
       "2013-02-14  92.16   NaN  ...  24.32  37.08  48.17  35.53  45.21  63.70  44.29   \n",
       "\n",
       "              WYNN  ALLE    HES  \n",
       "date                             \n",
       "2013-02-08  126.52   NaN  67.37  \n",
       "2013-02-11  124.10   NaN  66.74  \n",
       "2013-02-12  122.67   NaN  66.98  \n",
       "2013-02-13  122.40   NaN  67.96  \n",
       "2013-02-14  123.20   NaN  68.35  \n",
       "\n",
       "[5 rows x 506 columns]"
      ]
     },
     "execution_count": 109,
     "metadata": {},
     "output_type": "execute_result"
    }
   ],
   "source": [
    "info = ['date', 'close']\n",
    "df = raw[raw['Name']=='AAPL'][info]\n",
    "df = pd.DataFrame(df)\n",
    "cols = ['date', 'AAPL']\n",
    "for s in stocks:\n",
    "    df_s = raw[raw['Name']==s][info]\n",
    "    df_s.name = s\n",
    "    df = df.merge(df_s, on='date', how='outer')\n",
    "    cols.append(s)\n",
    "df.columns = cols\n",
    "df = df.set_index('date')\n",
    "df.head()"
   ]
  },
  {
   "cell_type": "code",
   "execution_count": 110,
   "metadata": {
    "pycharm": {
     "name": "#%%\n"
    },
    "scrolled": true
   },
   "outputs": [
    {
     "data": {
      "text/html": [
       "<div>\n",
       "<style scoped>\n",
       "    .dataframe tbody tr th:only-of-type {\n",
       "        vertical-align: middle;\n",
       "    }\n",
       "\n",
       "    .dataframe tbody tr th {\n",
       "        vertical-align: top;\n",
       "    }\n",
       "\n",
       "    .dataframe thead th {\n",
       "        text-align: right;\n",
       "    }\n",
       "</style>\n",
       "<table border=\"1\" class=\"dataframe\">\n",
       "  <thead>\n",
       "    <tr style=\"text-align: right;\">\n",
       "      <th></th>\n",
       "      <th>AAPL</th>\n",
       "      <th>MOS</th>\n",
       "      <th>SPG</th>\n",
       "      <th>CMCSA</th>\n",
       "      <th>AZO</th>\n",
       "      <th>AAL</th>\n",
       "      <th>UHS</th>\n",
       "      <th>PHM</th>\n",
       "      <th>SJM</th>\n",
       "      <th>INFO</th>\n",
       "      <th>...</th>\n",
       "      <th>UDR</th>\n",
       "      <th>PDCO</th>\n",
       "      <th>PCAR</th>\n",
       "      <th>FCX</th>\n",
       "      <th>TJX</th>\n",
       "      <th>ITW</th>\n",
       "      <th>O</th>\n",
       "      <th>WYNN</th>\n",
       "      <th>ALLE</th>\n",
       "      <th>HES</th>\n",
       "    </tr>\n",
       "    <tr>\n",
       "      <th>date</th>\n",
       "      <th></th>\n",
       "      <th></th>\n",
       "      <th></th>\n",
       "      <th></th>\n",
       "      <th></th>\n",
       "      <th></th>\n",
       "      <th></th>\n",
       "      <th></th>\n",
       "      <th></th>\n",
       "      <th></th>\n",
       "      <th></th>\n",
       "      <th></th>\n",
       "      <th></th>\n",
       "      <th></th>\n",
       "      <th></th>\n",
       "      <th></th>\n",
       "      <th></th>\n",
       "      <th></th>\n",
       "      <th></th>\n",
       "      <th></th>\n",
       "      <th></th>\n",
       "    </tr>\n",
       "  </thead>\n",
       "  <tbody>\n",
       "    <tr>\n",
       "      <th>2013-02-08</th>\n",
       "      <td>NaN</td>\n",
       "      <td>NaN</td>\n",
       "      <td>NaN</td>\n",
       "      <td>NaN</td>\n",
       "      <td>NaN</td>\n",
       "      <td>NaN</td>\n",
       "      <td>NaN</td>\n",
       "      <td>NaN</td>\n",
       "      <td>NaN</td>\n",
       "      <td>NaN</td>\n",
       "      <td>...</td>\n",
       "      <td>NaN</td>\n",
       "      <td>NaN</td>\n",
       "      <td>NaN</td>\n",
       "      <td>NaN</td>\n",
       "      <td>NaN</td>\n",
       "      <td>NaN</td>\n",
       "      <td>NaN</td>\n",
       "      <td>NaN</td>\n",
       "      <td>NaN</td>\n",
       "      <td>NaN</td>\n",
       "    </tr>\n",
       "    <tr>\n",
       "      <th>2013-02-11</th>\n",
       "      <td>0.010368</td>\n",
       "      <td>-0.004244</td>\n",
       "      <td>0.004536</td>\n",
       "      <td>-0.002843</td>\n",
       "      <td>-0.001712</td>\n",
       "      <td>-0.019857</td>\n",
       "      <td>-0.012642</td>\n",
       "      <td>-0.008770</td>\n",
       "      <td>-0.004609</td>\n",
       "      <td>NaN</td>\n",
       "      <td>...</td>\n",
       "      <td>0.008859</td>\n",
       "      <td>-0.006453</td>\n",
       "      <td>0.006087</td>\n",
       "      <td>-0.008736</td>\n",
       "      <td>-0.006148</td>\n",
       "      <td>0.001275</td>\n",
       "      <td>0.009904</td>\n",
       "      <td>-0.019313</td>\n",
       "      <td>NaN</td>\n",
       "      <td>-0.009395</td>\n",
       "    </tr>\n",
       "    <tr>\n",
       "      <th>2013-02-12</th>\n",
       "      <td>-0.025386</td>\n",
       "      <td>0.005708</td>\n",
       "      <td>-0.003247</td>\n",
       "      <td>0.008504</td>\n",
       "      <td>-0.008184</td>\n",
       "      <td>-0.013227</td>\n",
       "      <td>-0.019001</td>\n",
       "      <td>0.051501</td>\n",
       "      <td>0.024157</td>\n",
       "      <td>NaN</td>\n",
       "      <td>...</td>\n",
       "      <td>0.015007</td>\n",
       "      <td>0.007257</td>\n",
       "      <td>0.002925</td>\n",
       "      <td>0.009578</td>\n",
       "      <td>-0.004415</td>\n",
       "      <td>0.003497</td>\n",
       "      <td>0.019744</td>\n",
       "      <td>-0.011590</td>\n",
       "      <td>NaN</td>\n",
       "      <td>0.003590</td>\n",
       "    </tr>\n",
       "    <tr>\n",
       "      <th>2013-02-13</th>\n",
       "      <td>-0.001905</td>\n",
       "      <td>0.011480</td>\n",
       "      <td>-0.005661</td>\n",
       "      <td>0.029332</td>\n",
       "      <td>-0.006196</td>\n",
       "      <td>0.026963</td>\n",
       "      <td>0.017257</td>\n",
       "      <td>-0.004439</td>\n",
       "      <td>-0.006510</td>\n",
       "      <td>NaN</td>\n",
       "      <td>...</td>\n",
       "      <td>0.005364</td>\n",
       "      <td>-0.005101</td>\n",
       "      <td>0.002292</td>\n",
       "      <td>-0.000841</td>\n",
       "      <td>-0.004212</td>\n",
       "      <td>0.008375</td>\n",
       "      <td>0.001123</td>\n",
       "      <td>-0.002203</td>\n",
       "      <td>NaN</td>\n",
       "      <td>0.014525</td>\n",
       "    </tr>\n",
       "    <tr>\n",
       "      <th>2013-02-14</th>\n",
       "      <td>-0.000900</td>\n",
       "      <td>-0.003543</td>\n",
       "      <td>-0.009175</td>\n",
       "      <td>0.005219</td>\n",
       "      <td>-0.016248</td>\n",
       "      <td>-0.046780</td>\n",
       "      <td>0.010939</td>\n",
       "      <td>0.001975</td>\n",
       "      <td>0.020057</td>\n",
       "      <td>NaN</td>\n",
       "      <td>...</td>\n",
       "      <td>0.000823</td>\n",
       "      <td>-0.001886</td>\n",
       "      <td>0.002702</td>\n",
       "      <td>-0.003091</td>\n",
       "      <td>0.004434</td>\n",
       "      <td>0.002358</td>\n",
       "      <td>-0.005853</td>\n",
       "      <td>0.006515</td>\n",
       "      <td>NaN</td>\n",
       "      <td>0.005722</td>\n",
       "    </tr>\n",
       "  </tbody>\n",
       "</table>\n",
       "<p>5 rows × 506 columns</p>\n",
       "</div>"
      ],
      "text/plain": [
       "                AAPL       MOS       SPG     CMCSA       AZO       AAL  \\\n",
       "date                                                                     \n",
       "2013-02-08       NaN       NaN       NaN       NaN       NaN       NaN   \n",
       "2013-02-11  0.010368 -0.004244  0.004536 -0.002843 -0.001712 -0.019857   \n",
       "2013-02-12 -0.025386  0.005708 -0.003247  0.008504 -0.008184 -0.013227   \n",
       "2013-02-13 -0.001905  0.011480 -0.005661  0.029332 -0.006196  0.026963   \n",
       "2013-02-14 -0.000900 -0.003543 -0.009175  0.005219 -0.016248 -0.046780   \n",
       "\n",
       "                 UHS       PHM       SJM  INFO  ...       UDR      PDCO  \\\n",
       "date                                            ...                       \n",
       "2013-02-08       NaN       NaN       NaN   NaN  ...       NaN       NaN   \n",
       "2013-02-11 -0.012642 -0.008770 -0.004609   NaN  ...  0.008859 -0.006453   \n",
       "2013-02-12 -0.019001  0.051501  0.024157   NaN  ...  0.015007  0.007257   \n",
       "2013-02-13  0.017257 -0.004439 -0.006510   NaN  ...  0.005364 -0.005101   \n",
       "2013-02-14  0.010939  0.001975  0.020057   NaN  ...  0.000823 -0.001886   \n",
       "\n",
       "                PCAR       FCX       TJX       ITW         O      WYNN  ALLE  \\\n",
       "date                                                                           \n",
       "2013-02-08       NaN       NaN       NaN       NaN       NaN       NaN   NaN   \n",
       "2013-02-11  0.006087 -0.008736 -0.006148  0.001275  0.009904 -0.019313   NaN   \n",
       "2013-02-12  0.002925  0.009578 -0.004415  0.003497  0.019744 -0.011590   NaN   \n",
       "2013-02-13  0.002292 -0.000841 -0.004212  0.008375  0.001123 -0.002203   NaN   \n",
       "2013-02-14  0.002702 -0.003091  0.004434  0.002358 -0.005853  0.006515   NaN   \n",
       "\n",
       "                 HES  \n",
       "date                  \n",
       "2013-02-08       NaN  \n",
       "2013-02-11 -0.009395  \n",
       "2013-02-12  0.003590  \n",
       "2013-02-13  0.014525  \n",
       "2013-02-14  0.005722  \n",
       "\n",
       "[5 rows x 506 columns]"
      ]
     },
     "execution_count": 110,
     "metadata": {},
     "output_type": "execute_result"
    }
   ],
   "source": [
    "df = np.log(df/df.shift(1))\n",
    "df.head()"
   ]
  },
  {
   "cell_type": "markdown",
   "metadata": {},
   "source": [
    "## Select stocks"
   ]
  },
  {
   "cell_type": "code",
   "execution_count": 111,
   "metadata": {
    "pycharm": {
     "name": "#%%\n"
    }
   },
   "outputs": [],
   "source": [
    "train = df[df.index < pd.Timestamp('2017')]\n",
    "tmp = train.var()\n",
    "tmp = tmp.sort_values().dropna()\n",
    "largest = tmp[:10].index\n",
    "lowest = tmp[-10:].index\n",
    "selected = largest.union(lowest)"
   ]
  },
  {
   "cell_type": "code",
   "execution_count": 112,
   "metadata": {},
   "outputs": [
    {
     "data": {
      "text/plain": [
       "Index(['AMD', 'BRK.B', 'CHK', 'EBAY', 'FCX', 'INCY', 'JNJ', 'KO', 'LNT', 'MCD',\n",
       "       'NI', 'PEP', 'PG', 'QRVO', 'RSG', 'SO', 'T', 'VRTX', 'WM', 'WMB'],\n",
       "      dtype='object')"
      ]
     },
     "execution_count": 112,
     "metadata": {},
     "output_type": "execute_result"
    }
   ],
   "source": [
    "# stocks\n",
    "data = train[selected]\n",
    "data.columns"
   ]
  },
  {
   "cell_type": "code",
   "execution_count": 113,
   "metadata": {},
   "outputs": [],
   "source": [
    "# generate return vector and cov matrix\n",
    "mu = data.mean()\n",
    "mu = np.array(mu)\n",
    "sig = data.cov()\n",
    "sig = np.matrix(sig)"
   ]
  },
  {
   "cell_type": "code",
   "execution_count": 114,
   "metadata": {
    "pycharm": {
     "name": "#%%\n"
    }
   },
   "outputs": [],
   "source": [
    "# solve for min var portfolio\n",
    "min_port = mkt_port(len(mu), mu, sig, mu_0=0, rf=0)\n",
    "test_data = df[df.index > pd.Timestamp('2017')][selected]"
   ]
  },
  {
   "cell_type": "code",
   "execution_count": 115,
   "metadata": {},
   "outputs": [
    {
     "data": {
      "text/plain": [
       "matrix([[-0.00290296],\n",
       "        [ 0.00750625],\n",
       "        [ 0.01507263],\n",
       "        [ 0.00718344],\n",
       "        [-0.01605077],\n",
       "        [ 0.00290581],\n",
       "        [ 0.11313886],\n",
       "        [ 0.05731676],\n",
       "        [-0.0012722 ],\n",
       "        [ 0.16128354],\n",
       "        [-0.00444053],\n",
       "        [ 0.04843373],\n",
       "        [ 0.10379265],\n",
       "        [-0.01542187],\n",
       "        [ 0.10298377],\n",
       "        [ 0.14134805],\n",
       "        [ 0.14065221],\n",
       "        [-0.00916391],\n",
       "        [ 0.15550895],\n",
       "        [-0.0078744 ]])"
      ]
     },
     "execution_count": 115,
     "metadata": {},
     "output_type": "execute_result"
    }
   ],
   "source": [
    "min_port"
   ]
  },
  {
   "cell_type": "markdown",
   "metadata": {},
   "source": [
    "Calculate the return of portfolio"
   ]
  },
  {
   "cell_type": "code",
   "execution_count": 116,
   "metadata": {
    "pycharm": {
     "name": "#%%\n"
    }
   },
   "outputs": [],
   "source": [
    "test_matrix = np.matrix(test_data)\n",
    "path1 = test_matrix.dot(min_port)"
   ]
  },
  {
   "cell_type": "code",
   "execution_count": 117,
   "metadata": {
    "pycharm": {
     "name": "#%%\n"
    }
   },
   "outputs": [
    {
     "name": "stdout",
     "output_type": "stream",
     "text": [
      "[*********************100%***********************]  1 of 1 completed\n"
     ]
    },
    {
     "data": {
      "image/png": "[encoded data removed]",
      "text/plain": [
       "<Figure size 432x288 with 1 Axes>"
      ]
     },
     "metadata": {
      "needs_background": "light"
     },
     "output_type": "display_data"
    }
   ],
   "source": [
    "import yfinance as yf\n",
    "date = test_data.index\n",
    "spy = yf.download('spy', date[0],date[-1]).Close\n",
    "spy = np.log(spy/spy.shift(1)).dropna()\n",
    "rf = 0.003\n",
    "path1 = path1 - rf\n",
    "path1 = path1/np.std(path1)\n",
    "spy = spy - rf\n",
    "spy = spy/np.std(spy)\n",
    "\n",
    "plt.plot(date,path1,label='global min var portfolio')\n",
    "plt.plot(spy, label = 'spy')\n",
    "plt.legend()\n",
    "plt.savefig(\"p2_part1\")\n",
    "plt.show()"
   ]
  },
  {
   "cell_type": "markdown",
   "metadata": {},
   "source": [
    "$$\n",
    "\\begin{array}{ll}\n",
    "\\operatorname{minimize} & (1 / 2) x^{T} P x+q^{T} x \\\\\n",
    "\\text { subject to } & G x \\preceq h \\\\\n",
    "& A x=b\n",
    "\\end{array}\n",
    "$$"
   ]
  },
  {
   "cell_type": "markdown",
   "metadata": {},
   "source": [
    "$$  G_{n \\times n} =\n",
    "  \\begin{bmatrix}\n",
    "    -1 & & \\\\\n",
    "    & \\ddots & \\\\\n",
    "    & & -1\n",
    "  \\end{bmatrix}$$\n",
    "  \n",
    "$$\n",
    "h = (-0.0001, -0.0001 \\cdots -0.0001)^{T}\n",
    "$$"
   ]
  },
  {
   "cell_type": "code",
   "execution_count": 118,
   "metadata": {
    "pycharm": {
     "name": "#%%\n"
    }
   },
   "outputs": [],
   "source": [
    "# solve for portfolio with extra constraints\n",
    "n = len(mu)\n",
    "A = matrix(1.0, (1,n))\n",
    "b = matrix(1.0)\n",
    "q = matrix(0.0, (n, 1))\n",
    "Sig = matrix(sig)\n",
    "tmp = np.array([-1.0]*n)\n",
    "G = matrix(np.diag(tmp))\n",
    "h = matrix(-0.0001,(n,1))"
   ]
  },
  {
   "cell_type": "code",
   "execution_count": 119,
   "metadata": {},
   "outputs": [
    {
     "name": "stdout",
     "output_type": "stream",
     "text": [
      "     pcost       dcost       gap    pres   dres\n",
      " 0:  5.4040e-05 -9.9802e-01  1e+00  2e-16  5e+00\n",
      " 1:  5.4031e-05 -1.0000e-02  1e-02  1e-16  5e-02\n",
      " 2:  5.3116e-05 -1.1911e-04  2e-04  4e-17  8e-04\n",
      " 3:  3.4360e-05  1.8172e-06  3e-05  4e-17  1e-04\n",
      " 4:  2.3775e-05  1.4643e-05  9e-06  1e-16  7e-20\n",
      " 5:  2.1656e-05  2.0536e-05  1e-06  9e-17  5e-20\n",
      " 6:  2.1169e-05  2.1051e-05  1e-07  7e-17  3e-20\n",
      " 7:  2.1098e-05  2.1093e-05  6e-09  4e-17  2e-20\n",
      "Optimal solution found.\n"
     ]
    }
   ],
   "source": [
    "port = qp(Sig, q, G, h, A, b)['x']"
   ]
  },
  {
   "cell_type": "code",
   "execution_count": 120,
   "metadata": {},
   "outputs": [
    {
     "name": "stdout",
     "output_type": "stream",
     "text": [
      "[ 1.49e-04]\n",
      "[ 7.31e-04]\n",
      "[ 3.82e-03]\n",
      "[ 3.73e-03]\n",
      "[ 1.09e-04]\n",
      "[ 3.25e-04]\n",
      "[ 1.01e-01]\n",
      "[ 5.51e-02]\n",
      "[ 4.88e-04]\n",
      "[ 1.57e-01]\n",
      "[ 2.18e-04]\n",
      "[ 4.87e-02]\n",
      "[ 9.09e-02]\n",
      "[ 1.10e-04]\n",
      "[ 9.60e-02]\n",
      "[ 1.61e-01]\n",
      "[ 1.35e-01]\n",
      "[ 1.26e-04]\n",
      "[ 1.46e-01]\n",
      "[ 1.24e-04]\n",
      " 1.0\n"
     ]
    }
   ],
   "source": [
    "print(port, np.sum(port))"
   ]
  },
  {
   "cell_type": "markdown",
   "metadata": {},
   "source": [
    "We can find that all data is > 0.0001 and sum up to 1"
   ]
  },
  {
   "cell_type": "code",
   "execution_count": 121,
   "metadata": {},
   "outputs": [],
   "source": [
    "test_matrix = np.matrix(test_data)\n",
    "path2 = test_matrix.dot(port)"
   ]
  },
  {
   "cell_type": "code",
   "execution_count": 122,
   "metadata": {},
   "outputs": [
    {
     "data": {
      "image/png": "[encoded data removed]",
      "text/plain": [
       "<Figure size 432x288 with 1 Axes>"
      ]
     },
     "metadata": {
      "needs_background": "light"
     },
     "output_type": "display_data"
    }
   ],
   "source": [
    "rf = 0.003\n",
    "path2 = path2 - rf\n",
    "path2 = path2/np.std(path2)\n",
    "spy = spy - rf\n",
    "spy = spy/np.std(spy)\n",
    "\n",
    "plt.plot(date,path2,label='new')\n",
    "plt.plot(date, path1, label = 'old')\n",
    "plt.legend()\n",
    "plt.savefig(\"p2_part2\")\n",
    "plt.show()"
   ]
  }
 ],
 "metadata": {
  "kernelspec": {
   "display_name": "Python 3",
   "language": "python",
   "name": "python3"
  },
  "language_info": {
   "codemirror_mode": {
    "name": "ipython",
    "version": 3
   },
   "file_extension": ".py",
   "mimetype": "text/x-python",
   "name": "python",
   "nbconvert_exporter": "python",
   "pygments_lexer": "ipython3",
   "version": "3.8.8"
  }
 },
 "nbformat": 4,
 "nbformat_minor": 1
}
