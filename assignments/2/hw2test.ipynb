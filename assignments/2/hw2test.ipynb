{
 "cells": [
  {
   "cell_type": "code",
   "execution_count": 31,
   "metadata": {
    "collapsed": true
   },
   "outputs": [],
   "source": [
    "import numpy as np\n",
    "import pandas as pd\n",
    "from cvxopt import matrix\n",
    "from cvxopt.solvers import qp\n",
    "import matplotlib.pyplot as plt"
   ]
  },
  {
   "cell_type": "code",
   "execution_count": 2,
   "outputs": [
    {
     "name": "stdout",
     "output_type": "stream",
     "text": [
      "[0.05 0.1 ]\n",
      "[[ 0.01 -0.01]\n",
      " [-0.01  0.04]]\n"
     ]
    }
   ],
   "source": [
    "# problem 1 settings\n",
    "n = 2\n",
    "mu = np.array([0.05, 0.10])\n",
    "sig = np.matrix([[0.01, -0.01], [-0.01, 0.04]])\n",
    "print(mu)\n",
    "print(sig)"
   ],
   "metadata": {
    "collapsed": false,
    "pycharm": {
     "name": "#%%\n"
    }
   }
  },
  {
   "cell_type": "code",
   "execution_count": 3,
   "outputs": [],
   "source": [
    "def mkt_port(n, mu, sigma, mu_0=0, rf=0):\n",
    "    \"\"\"\n",
    "    solve market portfolio with basic constraints\n",
    "    :param n: number of stocks\n",
    "    :param mu: vector of stock returns\n",
    "    :param sigma: covariance matrix of stock returns\n",
    "    :param mu_0: target return of market portfolio \\\n",
    "        0 means to solve global min var portfolio\n",
    "    :param rf: risk free rate\n",
    "    :return: vector of weights\n",
    "    \"\"\"\n",
    "    if rf == 0:\n",
    "        if mu_0 != 0:\n",
    "            e = np.ones(n)\n",
    "            A = matrix(np.matrix([e, mu]))\n",
    "            b = matrix([1.0, mu_0])\n",
    "        else:\n",
    "            A = matrix(1.0, (1,n))\n",
    "            b = matrix(1.0)\n",
    "    else:\n",
    "        A = matrix(np.matrix(mu-rf))\n",
    "        b = matrix(mu_0 - rf)\n",
    "    q = matrix(0.0, (n, 1))\n",
    "    Sig = matrix(sigma)\n",
    "    port = qp(Sig, q, A=A, b=b)['x']\n",
    "    return np.matrix(port)"
   ],
   "metadata": {
    "collapsed": false,
    "pycharm": {
     "name": "#%%\n"
    }
   }
  },
  {
   "cell_type": "code",
   "execution_count": 4,
   "outputs": [
    {
     "name": "stdout",
     "output_type": "stream",
     "text": [
      "Portfolio with 0.1 target return: [[5.689893e-15]\n",
      " [1.000000e+00]]\n",
      "Portfolio with 0.2 target return: [[-2.]\n",
      " [ 3.]]\n"
     ]
    }
   ],
   "source": [
    "p1 = mkt_port(n, mu, sig, 0.1)\n",
    "p2 = mkt_port(n, mu, sig, 0.2)\n",
    "print(\"Portfolio with 0.1 target return: {0}\".format(p1))\n",
    "print(\"Portfolio with 0.2 target return: {0}\".format(p2))"
   ],
   "metadata": {
    "collapsed": false,
    "pycharm": {
     "name": "#%%\n"
    }
   }
  },
  {
   "cell_type": "code",
   "execution_count": 5,
   "outputs": [
    {
     "name": "stdout",
     "output_type": "stream",
     "text": [
      "[[ 1.6]\n",
      " [-0.6]]\n"
     ]
    }
   ],
   "source": [
    "p3 = mkt_port(n, mu, sig, 0.02)\n",
    "print(p3)"
   ],
   "metadata": {
    "collapsed": false,
    "pycharm": {
     "name": "#%%\n"
    }
   }
  },
  {
   "cell_type": "code",
   "execution_count": 28,
   "outputs": [
    {
     "data": {
      "text/plain": "<Figure size 720x432 with 1 Axes>",
      "image/png": "[encoded data removed]"
     },
     "metadata": {
      "needs_background": "light"
     },
     "output_type": "display_data"
    }
   ],
   "source": [
    "fig, ax = plt.subplots(figsize=(10, 6))\n",
    "\n",
    "# efficient frontier without risk-free asset\n",
    "rets1 = np.arange(0.05, 0.2, 0.001)\n",
    "risk1 = np.zeros(len(rets1))\n",
    "\n",
    "for i,j in enumerate(rets1):\n",
    "    port = mkt_port(n, mu, sig, j)\n",
    "    var = np.dot(np.dot(port.T, sig),port)\n",
    "    risk1[i] = np.sqrt(var)\n",
    "ax.plot(risk1, rets1, label='efficient frontier without risk-free asset')\n",
    "# new frontier\n",
    "rets2 = np.arange(0.02, 0.2, 0.001)\n",
    "risk2 = np.zeros(len(rets2))\n",
    "\n",
    "for i,j in enumerate(rets2):\n",
    "    port = mkt_port(n, mu, sig, j, 0.02)\n",
    "    var = np.dot(np.dot(port.T, sig),port)\n",
    "    risk2[i] = np.sqrt(var)\n",
    "\n",
    "ax.plot(risk2, rets2, label='CML')\n",
    "plt.ylim([0, 0.25])\n",
    "plt.xlabel('x')\n",
    "plt.ylabel('y')\n",
    "plt.legend()\n",
    "plt.savefig(\"test\")\n",
    "plt.show()"
   ],
   "metadata": {
    "collapsed": false,
    "pycharm": {
     "name": "#%%\n"
    }
   }
  },
  {
   "cell_type": "code",
   "execution_count": null,
   "outputs": [],
   "source": [
    "df1 = pd.read_csv(\"./all_stocks_5yr.csv\")\n",
    "df1['date'] = pd.to_datetime(df1['date'])"
   ],
   "metadata": {
    "collapsed": false,
    "pycharm": {
     "name": "#%%\n"
    }
   }
  },
  {
   "cell_type": "code",
   "execution_count": null,
   "outputs": [],
   "source": [
    "stocks = set(df1['Name'])\n",
    "stocks"
   ],
   "metadata": {
    "collapsed": false,
    "pycharm": {
     "name": "#%%\n"
    }
   }
  },
  {
   "cell_type": "code",
   "execution_count": 103,
   "outputs": [
    {
     "name": "stderr",
     "output_type": "stream",
     "text": [
      "/opt/anaconda3/lib/python3.8/site-packages/pandas/core/frame.py:9191: FutureWarning: Passing 'suffixes' which cause duplicate columns {'close_x'} in the result is deprecated and will raise a MergeError in a future version.\n",
      "  return merge(\n"
     ]
    },
    {
     "data": {
      "text/plain": "               AAPL    LYB    HSIC   ZION    AAP    RRC    ALB    TSCO  \\\ndate                                                                     \n2013-02-08  67.8542  62.11  44.555  24.14  78.90  72.15  62.66  52.020   \n2013-02-11  68.5614  60.54  44.725  24.21  78.39  70.68  62.76  51.600   \n2013-02-12  66.8428  60.51  45.185  24.49  78.60  71.03  62.70  51.480   \n2013-02-13  66.7156  62.30  44.625  24.74  78.97  71.31  66.15  51.550   \n2013-02-14  66.6556  61.17  44.200  24.63  78.84  71.73  65.41  51.875   \n\n              CTSH     PVH  ...     IT    AMZN    CELG      A     DE   ILMN  \\\ndate                        ...                                               \n2013-02-08  39.365  122.47  ...  49.75  261.95  50.065  45.08  92.81  50.88   \n2013-02-11  38.560  119.50  ...  49.49  257.21  49.970  44.60  93.23  50.25   \n2013-02-12  38.300  120.72  ...  49.37  258.70  49.480  44.62  93.97  50.27   \n2013-02-13  38.190  120.49  ...  48.90  269.47  49.535  44.75  90.68  49.76   \n2013-02-14  38.090  120.30  ...  48.53  269.24  49.755  44.58  90.57  48.79   \n\n             CHTR    COST    PNC    AES  \ndate                                     \n2013-02-08  80.89  102.79  63.35  11.07  \n2013-02-11  79.31  101.99  64.00  11.20  \n2013-02-12  80.00  101.76  64.77  11.31  \n2013-02-13  80.03  101.63  64.17  11.34  \n2013-02-14  79.48  102.02  63.87  11.21  \n\n[5 rows x 471 columns]",
      "text/html": "<div>\n<style scoped>\n    .dataframe tbody tr th:only-of-type {\n        vertical-align: middle;\n    }\n\n    .dataframe tbody tr th {\n        vertical-align: top;\n    }\n\n    .dataframe thead th {\n        text-align: right;\n    }\n</style>\n<table border=\"1\" class=\"dataframe\">\n  <thead>\n    <tr style=\"text-align: right;\">\n      <th></th>\n      <th>AAPL</th>\n      <th>LYB</th>\n      <th>HSIC</th>\n      <th>ZION</th>\n      <th>AAP</th>\n      <th>RRC</th>\n      <th>ALB</th>\n      <th>TSCO</th>\n      <th>CTSH</th>\n      <th>PVH</th>\n      <th>...</th>\n      <th>IT</th>\n      <th>AMZN</th>\n      <th>CELG</th>\n      <th>A</th>\n      <th>DE</th>\n      <th>ILMN</th>\n      <th>CHTR</th>\n      <th>COST</th>\n      <th>PNC</th>\n      <th>AES</th>\n    </tr>\n    <tr>\n      <th>date</th>\n      <th></th>\n      <th></th>\n      <th></th>\n      <th></th>\n      <th></th>\n      <th></th>\n      <th></th>\n      <th></th>\n      <th></th>\n      <th></th>\n      <th></th>\n      <th></th>\n      <th></th>\n      <th></th>\n      <th></th>\n      <th></th>\n      <th></th>\n      <th></th>\n      <th></th>\n      <th></th>\n      <th></th>\n    </tr>\n  </thead>\n  <tbody>\n    <tr>\n      <th>2013-02-08</th>\n      <td>67.8542</td>\n      <td>62.11</td>\n      <td>44.555</td>\n      <td>24.14</td>\n      <td>78.90</td>\n      <td>72.15</td>\n      <td>62.66</td>\n      <td>52.020</td>\n      <td>39.365</td>\n      <td>122.47</td>\n      <td>...</td>\n      <td>49.75</td>\n      <td>261.95</td>\n      <td>50.065</td>\n      <td>45.08</td>\n      <td>92.81</td>\n      <td>50.88</td>\n      <td>80.89</td>\n      <td>102.79</td>\n      <td>63.35</td>\n      <td>11.07</td>\n    </tr>\n    <tr>\n      <th>2013-02-11</th>\n      <td>68.5614</td>\n      <td>60.54</td>\n      <td>44.725</td>\n      <td>24.21</td>\n      <td>78.39</td>\n      <td>70.68</td>\n      <td>62.76</td>\n      <td>51.600</td>\n      <td>38.560</td>\n      <td>119.50</td>\n      <td>...</td>\n      <td>49.49</td>\n      <td>257.21</td>\n      <td>49.970</td>\n      <td>44.60</td>\n      <td>93.23</td>\n      <td>50.25</td>\n      <td>79.31</td>\n      <td>101.99</td>\n      <td>64.00</td>\n      <td>11.20</td>\n    </tr>\n    <tr>\n      <th>2013-02-12</th>\n      <td>66.8428</td>\n      <td>60.51</td>\n      <td>45.185</td>\n      <td>24.49</td>\n      <td>78.60</td>\n      <td>71.03</td>\n      <td>62.70</td>\n      <td>51.480</td>\n      <td>38.300</td>\n      <td>120.72</td>\n      <td>...</td>\n      <td>49.37</td>\n      <td>258.70</td>\n      <td>49.480</td>\n      <td>44.62</td>\n      <td>93.97</td>\n      <td>50.27</td>\n      <td>80.00</td>\n      <td>101.76</td>\n      <td>64.77</td>\n      <td>11.31</td>\n    </tr>\n    <tr>\n      <th>2013-02-13</th>\n      <td>66.7156</td>\n      <td>62.30</td>\n      <td>44.625</td>\n      <td>24.74</td>\n      <td>78.97</td>\n      <td>71.31</td>\n      <td>66.15</td>\n      <td>51.550</td>\n      <td>38.190</td>\n      <td>120.49</td>\n      <td>...</td>\n      <td>48.90</td>\n      <td>269.47</td>\n      <td>49.535</td>\n      <td>44.75</td>\n      <td>90.68</td>\n      <td>49.76</td>\n      <td>80.03</td>\n      <td>101.63</td>\n      <td>64.17</td>\n      <td>11.34</td>\n    </tr>\n    <tr>\n      <th>2013-02-14</th>\n      <td>66.6556</td>\n      <td>61.17</td>\n      <td>44.200</td>\n      <td>24.63</td>\n      <td>78.84</td>\n      <td>71.73</td>\n      <td>65.41</td>\n      <td>51.875</td>\n      <td>38.090</td>\n      <td>120.30</td>\n      <td>...</td>\n      <td>48.53</td>\n      <td>269.24</td>\n      <td>49.755</td>\n      <td>44.58</td>\n      <td>90.57</td>\n      <td>48.79</td>\n      <td>79.48</td>\n      <td>102.02</td>\n      <td>63.87</td>\n      <td>11.21</td>\n    </tr>\n  </tbody>\n</table>\n<p>5 rows × 471 columns</p>\n</div>"
     },
     "execution_count": 103,
     "metadata": {},
     "output_type": "execute_result"
    }
   ],
   "source": [
    "info = ['date', 'close']\n",
    "df = df1[df1['Name']=='AAPL'][info]\n",
    "df = pd.DataFrame(df)\n",
    "size = df.size\n",
    "cols = ['date', 'AAPL']\n",
    "for s in stocks:\n",
    "    df_s = df1[df1['Name']==s][info]\n",
    "    df_s.name = s\n",
    "    if df_s.size == size:\n",
    "        df = df.merge(df_s, on='date')\n",
    "        cols.append(s)\n",
    "df.columns = cols\n",
    "df = df.set_index('date')\n",
    "df.head()"
   ],
   "metadata": {
    "collapsed": false,
    "pycharm": {
     "name": "#%%\n"
    }
   }
  },
  {
   "cell_type": "code",
   "execution_count": 104,
   "outputs": [
    {
     "data": {
      "text/plain": "                AAPL       LYB      HSIC      ZION       AAP       RRC  \\\ndate                                                                     \n2013-02-11  0.010368 -0.025603  0.003808  0.002896 -0.006485 -0.020585   \n2013-02-12 -0.025386 -0.000496  0.010233  0.011499  0.002675  0.004940   \n2013-02-13 -0.001905  0.029153 -0.012471  0.010156  0.004696  0.003934   \n2013-02-14 -0.000900 -0.018305 -0.009569 -0.004456 -0.001648  0.005873   \n2013-02-15 -0.013876 -0.012668  0.003162 -0.011844  0.002027 -0.019284   \n\n                 ALB      TSCO      CTSH       PVH  ...        IT      AMZN  \\\ndate                                                ...                       \n2013-02-11  0.001595 -0.008107 -0.020662 -0.024550  ... -0.005240 -0.018261   \n2013-02-12 -0.000956 -0.002328 -0.006766  0.010157  ... -0.002428  0.005776   \n2013-02-13  0.053563  0.001359 -0.002876 -0.001907  ... -0.009566  0.040788   \n2013-02-14 -0.011250  0.006285 -0.002622 -0.001578  ... -0.007595 -0.000854   \n2013-02-15  0.000153  0.000193  0.008757 -0.001664  ...  0.007800 -0.015534   \n\n                CELG         A        DE      ILMN      CHTR      COST  \\\ndate                                                                     \n2013-02-11 -0.001899 -0.010705  0.004515 -0.012459 -0.019726 -0.007813   \n2013-02-12 -0.009854  0.000448  0.007906  0.000398  0.008662 -0.002258   \n2013-02-13  0.001111  0.002909 -0.035639 -0.010197  0.000375 -0.001278   \n2013-02-14  0.004431 -0.003806 -0.001214 -0.019686 -0.006896  0.003830   \n2013-02-15 -0.007464 -0.053681 -0.009095 -0.001231  0.000755  0.001469   \n\n                 PNC       AES  \ndate                            \n2013-02-11  0.010208  0.011675  \n2013-02-12  0.011959  0.009774  \n2013-02-13 -0.009307  0.002649  \n2013-02-14 -0.004686 -0.011530  \n2013-02-15  0.000000 -0.003575  \n\n[5 rows x 471 columns]",
      "text/html": "<div>\n<style scoped>\n    .dataframe tbody tr th:only-of-type {\n        vertical-align: middle;\n    }\n\n    .dataframe tbody tr th {\n        vertical-align: top;\n    }\n\n    .dataframe thead th {\n        text-align: right;\n    }\n</style>\n<table border=\"1\" class=\"dataframe\">\n  <thead>\n    <tr style=\"text-align: right;\">\n      <th></th>\n      <th>AAPL</th>\n      <th>LYB</th>\n      <th>HSIC</th>\n      <th>ZION</th>\n      <th>AAP</th>\n      <th>RRC</th>\n      <th>ALB</th>\n      <th>TSCO</th>\n      <th>CTSH</th>\n      <th>PVH</th>\n      <th>...</th>\n      <th>IT</th>\n      <th>AMZN</th>\n      <th>CELG</th>\n      <th>A</th>\n      <th>DE</th>\n      <th>ILMN</th>\n      <th>CHTR</th>\n      <th>COST</th>\n      <th>PNC</th>\n      <th>AES</th>\n    </tr>\n    <tr>\n      <th>date</th>\n      <th></th>\n      <th></th>\n      <th></th>\n      <th></th>\n      <th></th>\n      <th></th>\n      <th></th>\n      <th></th>\n      <th></th>\n      <th></th>\n      <th></th>\n      <th></th>\n      <th></th>\n      <th></th>\n      <th></th>\n      <th></th>\n      <th></th>\n      <th></th>\n      <th></th>\n      <th></th>\n      <th></th>\n    </tr>\n  </thead>\n  <tbody>\n    <tr>\n      <th>2013-02-11</th>\n      <td>0.010368</td>\n      <td>-0.025603</td>\n      <td>0.003808</td>\n      <td>0.002896</td>\n      <td>-0.006485</td>\n      <td>-0.020585</td>\n      <td>0.001595</td>\n      <td>-0.008107</td>\n      <td>-0.020662</td>\n      <td>-0.024550</td>\n      <td>...</td>\n      <td>-0.005240</td>\n      <td>-0.018261</td>\n      <td>-0.001899</td>\n      <td>-0.010705</td>\n      <td>0.004515</td>\n      <td>-0.012459</td>\n      <td>-0.019726</td>\n      <td>-0.007813</td>\n      <td>0.010208</td>\n      <td>0.011675</td>\n    </tr>\n    <tr>\n      <th>2013-02-12</th>\n      <td>-0.025386</td>\n      <td>-0.000496</td>\n      <td>0.010233</td>\n      <td>0.011499</td>\n      <td>0.002675</td>\n      <td>0.004940</td>\n      <td>-0.000956</td>\n      <td>-0.002328</td>\n      <td>-0.006766</td>\n      <td>0.010157</td>\n      <td>...</td>\n      <td>-0.002428</td>\n      <td>0.005776</td>\n      <td>-0.009854</td>\n      <td>0.000448</td>\n      <td>0.007906</td>\n      <td>0.000398</td>\n      <td>0.008662</td>\n      <td>-0.002258</td>\n      <td>0.011959</td>\n      <td>0.009774</td>\n    </tr>\n    <tr>\n      <th>2013-02-13</th>\n      <td>-0.001905</td>\n      <td>0.029153</td>\n      <td>-0.012471</td>\n      <td>0.010156</td>\n      <td>0.004696</td>\n      <td>0.003934</td>\n      <td>0.053563</td>\n      <td>0.001359</td>\n      <td>-0.002876</td>\n      <td>-0.001907</td>\n      <td>...</td>\n      <td>-0.009566</td>\n      <td>0.040788</td>\n      <td>0.001111</td>\n      <td>0.002909</td>\n      <td>-0.035639</td>\n      <td>-0.010197</td>\n      <td>0.000375</td>\n      <td>-0.001278</td>\n      <td>-0.009307</td>\n      <td>0.002649</td>\n    </tr>\n    <tr>\n      <th>2013-02-14</th>\n      <td>-0.000900</td>\n      <td>-0.018305</td>\n      <td>-0.009569</td>\n      <td>-0.004456</td>\n      <td>-0.001648</td>\n      <td>0.005873</td>\n      <td>-0.011250</td>\n      <td>0.006285</td>\n      <td>-0.002622</td>\n      <td>-0.001578</td>\n      <td>...</td>\n      <td>-0.007595</td>\n      <td>-0.000854</td>\n      <td>0.004431</td>\n      <td>-0.003806</td>\n      <td>-0.001214</td>\n      <td>-0.019686</td>\n      <td>-0.006896</td>\n      <td>0.003830</td>\n      <td>-0.004686</td>\n      <td>-0.011530</td>\n    </tr>\n    <tr>\n      <th>2013-02-15</th>\n      <td>-0.013876</td>\n      <td>-0.012668</td>\n      <td>0.003162</td>\n      <td>-0.011844</td>\n      <td>0.002027</td>\n      <td>-0.019284</td>\n      <td>0.000153</td>\n      <td>0.000193</td>\n      <td>0.008757</td>\n      <td>-0.001664</td>\n      <td>...</td>\n      <td>0.007800</td>\n      <td>-0.015534</td>\n      <td>-0.007464</td>\n      <td>-0.053681</td>\n      <td>-0.009095</td>\n      <td>-0.001231</td>\n      <td>0.000755</td>\n      <td>0.001469</td>\n      <td>0.000000</td>\n      <td>-0.003575</td>\n    </tr>\n  </tbody>\n</table>\n<p>5 rows × 471 columns</p>\n</div>"
     },
     "execution_count": 104,
     "metadata": {},
     "output_type": "execute_result"
    }
   ],
   "source": [
    "df = np.log(df/df.shift(1)).dropna()\n",
    "df.head()"
   ],
   "metadata": {
    "collapsed": false,
    "pycharm": {
     "name": "#%%\n"
    }
   }
  },
  {
   "cell_type": "code",
   "execution_count": 152,
   "outputs": [],
   "source": [
    "port_data = df[df.index < pd.Timestamp('2017')]\n",
    "test_data = df[df.index > pd.Timestamp('2017')]"
   ],
   "metadata": {
    "collapsed": false,
    "pycharm": {
     "name": "#%%\n"
    }
   }
  },
  {
   "cell_type": "code",
   "execution_count": 153,
   "outputs": [],
   "source": [
    "mu = port_data.mean()\n",
    "mu = np.array(mu)\n",
    "sig = port_data.cov()\n",
    "sig = np.matrix(sig)"
   ],
   "metadata": {
    "collapsed": false,
    "pycharm": {
     "name": "#%%\n"
    }
   }
  },
  {
   "cell_type": "code",
   "execution_count": 154,
   "outputs": [],
   "source": [
    "min_port = mkt_port(len(mu), mu, sig, mu_0=0, rf=0)"
   ],
   "metadata": {
    "collapsed": false,
    "pycharm": {
     "name": "#%%\n"
    }
   }
  },
  {
   "cell_type": "code",
   "execution_count": 155,
   "outputs": [
    {
     "data": {
      "text/plain": "-6.906827373877794e-05"
     },
     "execution_count": 155,
     "metadata": {},
     "output_type": "execute_result"
    }
   ],
   "source": [
    "return1 = mu.dot(min_port)\n",
    "(float(return1))"
   ],
   "metadata": {
    "collapsed": false,
    "pycharm": {
     "name": "#%%\n"
    }
   }
  },
  {
   "cell_type": "code",
   "execution_count": 172,
   "outputs": [],
   "source": [
    "test_matrix = np.matrix(test_data)\n",
    "path1 = test_matrix.dot(min_port)"
   ],
   "metadata": {
    "collapsed": false,
    "pycharm": {
     "name": "#%%\n"
    }
   }
  },
  {
   "cell_type": "code",
   "execution_count": 173,
   "outputs": [
    {
     "name": "stdout",
     "output_type": "stream",
     "text": [
      "[*********************100%***********************]  1 of 1 completed\n"
     ]
    },
    {
     "data": {
      "text/plain": "<Figure size 432x288 with 1 Axes>",
      "image/png": "[encoded data removed]"
     },
     "metadata": {
      "needs_background": "light"
     },
     "output_type": "display_data"
    }
   ],
   "source": [
    "import yfinance as yf\n",
    "date = test_data.index\n",
    "spy = yf.download('spy', date[0],date[-1]).Close\n",
    "spy = np.log(spy/spy.shift(1)).dropna()\n",
    "rf = 0.003\n",
    "path1 = path1 - rf\n",
    "path1 = path1/np.std(path1)\n",
    "spy = spy - rf\n",
    "spy = spy/np.std(spy)\n",
    "\n",
    "plt.plot(date,path1,label='global min var portfolio')\n",
    "plt.plot(spy, label = 'spy')\n",
    "plt.legend()\n",
    "plt.show()"
   ],
   "metadata": {
    "collapsed": false,
    "pycharm": {
     "name": "#%%\n"
    }
   }
  },
  {
   "cell_type": "code",
   "execution_count": null,
   "outputs": [],
   "source": [],
   "metadata": {
    "collapsed": false,
    "pycharm": {
     "name": "#%%\n"
    }
   }
  }
 ],
 "metadata": {
  "kernelspec": {
   "display_name": "Python 3",
   "language": "python",
   "name": "python3"
  },
  "language_info": {
   "codemirror_mode": {
    "name": "ipython",
    "version": 2
   },
   "file_extension": ".py",
   "mimetype": "text/x-python",
   "name": "python",
   "nbconvert_exporter": "python",
   "pygments_lexer": "ipython2",
   "version": "2.7.6"
  }
 },
 "nbformat": 4,
 "nbformat_minor": 0
}